{
 "cells": [
  {
   "cell_type": "markdown",
   "metadata": {},
   "source": [
    "# Sample Jupyter Notebook to call COVID data provider\n",
    "\n"
   ]
  },
  {
   "cell_type": "code",
   "execution_count": 1,
   "metadata": {},
   "outputs": [],
   "source": [
    "func_url = 'http://localhost:7071/api/covidata'"
   ]
  },
  {
   "cell_type": "code",
   "execution_count": 8,
   "metadata": {},
   "outputs": [],
   "source": [
    "import pandas as pd \n",
    "from ipywidgets import Image\n",
    "import requests"
   ]
  },
  {
   "cell_type": "code",
   "execution_count": 9,
   "metadata": {},
   "outputs": [
    {
     "output_type": "execute_result",
     "data": {
      "text/plain": "   Unnamed: 0        Date  Infected  Recovered  Deaths  Removed  Infected_Av  \\\n0          50  2020-03-12    1561.0       12.0    43.0     55.0  1127.000000   \n1          51  2020-03-13    2157.0       12.0    52.0     64.0  1609.000000   \n2          52  2020-03-14    2870.0       12.0    58.0     70.0  2196.000000   \n3          53  2020-03-15    2968.0       12.0    70.0     82.0  2665.000000   \n4          54  2020-03-16    4360.0       17.0    97.0    114.0  3399.333333   \n\n   Recovered_Av  Deaths_Av  Removed_Av      Beta     Gamma        Rt  \n0      9.333333  34.666667   44.000000  0.300708  0.033333  9.021228  \n1     10.666667  42.666667   53.333333  0.303784  0.033333  9.113512  \n2     12.000000  51.000000   63.000000  0.303181  0.033333  9.095435  \n3     12.000000  60.000000   72.000000  0.306476  0.033333  9.194266  \n4     13.666667  75.000000   88.666667  0.304148  0.033333  9.124429  ",
      "text/html": "<div>\n<style scoped>\n    .dataframe tbody tr th:only-of-type {\n        vertical-align: middle;\n    }\n\n    .dataframe tbody tr th {\n        vertical-align: top;\n    }\n\n    .dataframe thead th {\n        text-align: right;\n    }\n</style>\n<table border=\"1\" class=\"dataframe\">\n  <thead>\n    <tr style=\"text-align: right;\">\n      <th></th>\n      <th>Unnamed: 0</th>\n      <th>Date</th>\n      <th>Infected</th>\n      <th>Recovered</th>\n      <th>Deaths</th>\n      <th>Removed</th>\n      <th>Infected_Av</th>\n      <th>Recovered_Av</th>\n      <th>Deaths_Av</th>\n      <th>Removed_Av</th>\n      <th>Beta</th>\n      <th>Gamma</th>\n      <th>Rt</th>\n    </tr>\n  </thead>\n  <tbody>\n    <tr>\n      <th>0</th>\n      <td>50</td>\n      <td>2020-03-12</td>\n      <td>1561.0</td>\n      <td>12.0</td>\n      <td>43.0</td>\n      <td>55.0</td>\n      <td>1127.000000</td>\n      <td>9.333333</td>\n      <td>34.666667</td>\n      <td>44.000000</td>\n      <td>0.300708</td>\n      <td>0.033333</td>\n      <td>9.021228</td>\n    </tr>\n    <tr>\n      <th>1</th>\n      <td>51</td>\n      <td>2020-03-13</td>\n      <td>2157.0</td>\n      <td>12.0</td>\n      <td>52.0</td>\n      <td>64.0</td>\n      <td>1609.000000</td>\n      <td>10.666667</td>\n      <td>42.666667</td>\n      <td>53.333333</td>\n      <td>0.303784</td>\n      <td>0.033333</td>\n      <td>9.113512</td>\n    </tr>\n    <tr>\n      <th>2</th>\n      <td>52</td>\n      <td>2020-03-14</td>\n      <td>2870.0</td>\n      <td>12.0</td>\n      <td>58.0</td>\n      <td>70.0</td>\n      <td>2196.000000</td>\n      <td>12.000000</td>\n      <td>51.000000</td>\n      <td>63.000000</td>\n      <td>0.303181</td>\n      <td>0.033333</td>\n      <td>9.095435</td>\n    </tr>\n    <tr>\n      <th>3</th>\n      <td>53</td>\n      <td>2020-03-15</td>\n      <td>2968.0</td>\n      <td>12.0</td>\n      <td>70.0</td>\n      <td>82.0</td>\n      <td>2665.000000</td>\n      <td>12.000000</td>\n      <td>60.000000</td>\n      <td>72.000000</td>\n      <td>0.306476</td>\n      <td>0.033333</td>\n      <td>9.194266</td>\n    </tr>\n    <tr>\n      <th>4</th>\n      <td>54</td>\n      <td>2020-03-16</td>\n      <td>4360.0</td>\n      <td>17.0</td>\n      <td>97.0</td>\n      <td>114.0</td>\n      <td>3399.333333</td>\n      <td>13.666667</td>\n      <td>75.000000</td>\n      <td>88.666667</td>\n      <td>0.304148</td>\n      <td>0.033333</td>\n      <td>9.124429</td>\n    </tr>\n  </tbody>\n</table>\n</div>"
     },
     "metadata": {},
     "execution_count": 9
    }
   ],
   "source": [
    "df = pd.read_csv(func_url+\"?country=US\")\n",
    "df.head()"
   ]
  },
  {
   "cell_type": "code",
   "execution_count": 16,
   "metadata": {},
   "outputs": [
    {
     "output_type": "display_data",
     "data": {
      "text/plain": "Image(value=b'\\xff\\xd8\\xff\\xe0\\x00\\x10JFIF\\x00\\x01\\x01\\x01\\x00d\\x00d\\x00\\x00\\xff\\xdb\\x00C\\x00\\x02\\x01\\x01\\x01\\…",
      "application/vnd.jupyter.widget-view+json": {
       "version_major": 2,
       "version_minor": 0,
       "model_id": "94ac873f5bd0422f813f1b43ca301aeb"
      }
     },
     "metadata": {}
    }
   ],
   "source": [
    "Image(value=requests.get(func_url+\"?country=US&output=plot\").content)"
   ]
  },
  {
   "cell_type": "code",
   "execution_count": null,
   "metadata": {},
   "outputs": [],
   "source": []
  }
 ],
 "metadata": {
  "kernelspec": {
   "display_name": "Python 3.7.4 64-bit (conda)",
   "language": "python",
   "name": "python_defaultSpec_1594647297825"
  },
  "language_info": {
   "codemirror_mode": {
    "name": "ipython",
    "version": 3
   },
   "file_extension": ".py",
   "mimetype": "text/x-python",
   "name": "python",
   "nbconvert_exporter": "python",
   "pygments_lexer": "ipython3",
   "version": "3.7.4-final"
  }
 },
 "nbformat": 4,
 "nbformat_minor": 2
}